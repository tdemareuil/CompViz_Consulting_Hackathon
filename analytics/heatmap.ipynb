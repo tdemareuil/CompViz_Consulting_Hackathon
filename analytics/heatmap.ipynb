{
 "cells": [
  {
   "cell_type": "markdown",
   "metadata": {},
   "source": [
    "# Workers displacement heatmap "
   ]
  },
  {
   "cell_type": "code",
   "execution_count": null,
   "metadata": {},
   "outputs": [],
   "source": [
    "import numpy as np # linear algebra\n",
    "import pandas as pd # data processing, CSV file I/O (e.g. pd.read_csv)\n",
    "from PIL import Image\n",
    "import matplotlib.pyplot as plt\n",
    "from tqdm.notebook import tqdm\n",
    "import matplotlib.animation as animation\n",
    "from IPython.display import HTML\n",
    "import numpy as np\n",
    "import json\n",
    "import ast\n",
    "import pandas as pd\n",
    "import os\n",
    "from scipy import ndimage\n",
    "from skimage import io\n",
    "from skimage import transform"
   ]
  },
  {
   "cell_type": "markdown",
   "metadata": {},
   "source": [
    "## Path to analytics data"
   ]
  },
  {
   "cell_type": "code",
   "execution_count": null,
   "metadata": {},
   "outputs": [],
   "source": [
    "images_analytics = PATH_TO_ANALYTICS_IMG\n",
    "labels_analytics_poly = PATH_TO_ANALYTICS_JSON_POLY #shape: bitmap + origin point\n",
    "labels_analytics_people = PATH_TO_ANALYTICS_JSON_PEOPLE #shape: bounding box left upper and right lower point"
   ]
  },
  {
   "cell_type": "code",
   "execution_count": null,
   "metadata": {},
   "outputs": [],
   "source": [
    "sorted_images = [images_analytics+image for image in sorted(os.listdir(images_analytics))]\n",
    "sorted_labels_poly = [labels_analytics_poly+label for label in sorted(os.listdir(labels_analytics_poly))]\n",
    "sorted_labels_people = [labels_analytics_people+label for label in sorted(os.listdir(labels_analytics_people))]"
   ]
  },
  {
   "cell_type": "markdown",
   "metadata": {},
   "source": [
    "## Heatmap"
   ]
  },
  {
   "cell_type": "code",
   "execution_count": null,
   "metadata": {},
   "outputs": [],
   "source": [
    "def add(image, heat_map, alpha=0.6, display=False, save=None, cmap='coolwarm', axis='on', verbose=False):\n",
    "\n",
    "    height = image.shape[0]\n",
    "    width = image.shape[1]\n",
    "\n",
    "    # resize heat map\n",
    "    heat_map_resized = transform.resize(heat_map, (height, width))\n",
    "\n",
    "    # normalize heat map\n",
    "    max_value = np.max(heat_map_resized)\n",
    "    min_value = np.min(heat_map_resized)\n",
    "    normalized_heat_map = (heat_map_resized - min_value) / (max_value - min_value)\n",
    "\n",
    "    # display\n",
    "    plt.imshow(image)\n",
    "    plt.imshow(255 * normalized_heat_map, alpha=alpha, cmap=cmap)\n",
    "    plt.axis(axis)\n",
    "\n",
    "    if display:\n",
    "        plt.show()\n",
    "\n",
    "    if save is not None:\n",
    "        if verbose:\n",
    "            print('save image: ' + save)\n",
    "        plt.savefig(save, bbox_inches='tight', pad_inches=0)"
   ]
  },
  {
   "cell_type": "code",
   "execution_count": null,
   "metadata": {},
   "outputs": [],
   "source": [
    "heat = [[0 for i in range(1280)] for i in range(1080)]\n",
    "for text_file in sorted_labels_people:\n",
    "    f = open(text_file)\n",
    "    text = f.read()\n",
    "    dic = ast.literal_eval(text)\n",
    "    objects = dic['objects']\n",
    "    \n",
    "    for obj in objects:\n",
    "        if obj['classTitle'] == 'People_model':\n",
    "            #mid_x =  (obj['points']['exterior'][0][0] + obj['points']['exterior'][1][0])/2\n",
    "            #mid_y =  (obj['points']['exterior'][0][1] + obj['points']['exterior'][1][1])/2\n",
    "            upper_right =  obj['points']['exterior'][1]\n",
    "            lower_left =  obj['points']['exterior'][0]\n",
    "            \n",
    "            for i in range (lower_left[0], upper_right[0]+1):\n",
    "                for j in range (lower_left[1], upper_right[1]+1):\n",
    "                    try:\n",
    "                        heat[j][i]+=1\n",
    "                    except:\n",
    "                        print(i,j)\n",
    "                        \n",
    "# read image on which to put the heatmap\n",
    "image = io.imread(sorted_images[15])\n",
    "\n",
    "# create heat map\n",
    "add(image, np.array(heat), alpha=0.7, save='heat_map.png')"
   ]
  }
 ],
 "metadata": {
  "kernelspec": {
   "display_name": "Python 3",
   "language": "python",
   "name": "python3"
  },
  "language_info": {
   "codemirror_mode": {
    "name": "ipython",
    "version": 3
   },
   "file_extension": ".py",
   "mimetype": "text/x-python",
   "name": "python",
   "nbconvert_exporter": "python",
   "pygments_lexer": "ipython3",
   "version": "3.7.7"
  }
 },
 "nbformat": 4,
 "nbformat_minor": 4
}
