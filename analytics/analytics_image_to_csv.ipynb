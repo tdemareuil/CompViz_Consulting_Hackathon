{
 "cells": [
  {
   "cell_type": "code",
   "execution_count": null,
   "metadata": {},
   "outputs": [],
   "source": [
    "import numpy as np # linear algebra\n",
    "import pandas as pd # data processing, CSV file I/O (e.g. pd.read_csv)\n",
    "from PIL import Image\n",
    "import matplotlib.pyplot as plt\n",
    "from tqdm.notebook import tqdm\n",
    "import matplotlib.animation as animation\n",
    "from IPython.display import HTML\n",
    "import numpy as np\n",
    "import json\n",
    "import ast\n",
    "import pandas as pd\n",
    "import os\n",
    "from scipy import ndimage\n",
    "from skimage import io\n",
    "from skimage import transform"
   ]
  },
  {
   "cell_type": "code",
   "execution_count": null,
   "metadata": {},
   "outputs": [],
   "source": [
    "images_analytics = PATH_TO_ANALYTICS_IMG\n",
    "labels_analytics_poly = PATH_TO_ANALYTICS_JSON_POLY #shape: bitmap + origin point\n",
    "labels_analytics_people = PATH_TO_ANALYTICS_JSON_PEOPLE #shape: bounding box left upper and right lower point"
   ]
  },
  {
   "cell_type": "code",
   "execution_count": null,
   "metadata": {},
   "outputs": [],
   "source": [
    "    #outpus CSV with ID column corresponding to each new instance of a task\n",
    "    #timestamp and task level table\n",
    "def analytics_to_dataframe(images_analytics, labels_analytics_poly, labels_analytics, people):\n",
    "    sorted_images = [images_analytics+image for image in sorted(os.listdir(images_analytics))]\n",
    "    sorted_labels_poly = [labels_analytics_poly+label for label in sorted(os.listdir(labels_analytics_poly))]\n",
    "    sorted_labels_people = [labels_analytics_people+label for label in sorted(os.listdir(labels_analytics_people))]\n",
    "\n",
    "\n",
    "    analytics_time_serie = pd.DataFrame(columns = ['date','time','task', 'position','data', 'ID', 'workers'])\n",
    "\n",
    "    #to keep track of ongoing task to increment ID for each new task\n",
    "    tasks = {'Concrete_pump_hose':[0,False],\n",
    "                       'Horizontal formwork_model': [0, False],\n",
    "                       'Rebars_model': [0, False],\n",
    "                       'Vertical formwork_model': [0, False],\n",
    "                        'Rebars':[0, False],\n",
    "                      'Horizontal_formwork': [0, False],\n",
    "                      'Vertical_formwork': [0, False], \n",
    "            } #[task number, task is ongoing]\n",
    "\n",
    "\n",
    "    #for each frame\n",
    "    for image, label, people_label in tqdm(zip(sorted_images, sorted_labels_poly, sorted_labels_people)):\n",
    "        if '.ipynb' in label:\n",
    "            continue\n",
    "\n",
    "        date, time = image.split('/')[-1][:10], image.split('/')[-1][11:-4]\n",
    "        objects = ast.literal_eval(open(label).read())['objects']\n",
    "\n",
    "        frame_tasks = []\n",
    "        for obj in objects:\n",
    "            frame_tasks.append(obj['classTitle'])\n",
    "            if tasks[obj['classTitle']][1] == False: #if such a task was not ongoing\n",
    "                tasks[obj['classTitle']][1] = True #set it as ongoing\n",
    "                tasks[obj['classTitle']][0] +=1\n",
    "\n",
    "        for task in tasks.keys():\n",
    "            if task not in frame_tasks: #if a task is not in current frame, then it has stopped\n",
    "                tasks[task][1] = False\n",
    "\n",
    "\n",
    "        #each object in a frame\n",
    "        for obj in objects:\n",
    "            workers = 0\n",
    "            task = obj['classTitle']\n",
    "            ID = task+'_'+str(tasks[task][0])\n",
    "            position = (obj['bitmap']['origin'][0], obj['bitmap']['origin'][1])\n",
    "            bitmap = obj['bitmap']['data']\n",
    "\n",
    "            #nb workers\n",
    "            people_objects = ast.literal_eval(open(people_label).read())['objects']\n",
    "            for people in people_objects:\n",
    "                if people_in_bitmap(people['points']['exterior'], position, bitmap):\n",
    "                    workers += 1\n",
    "            analytics_time_serie = analytics_time_serie.append(pd.DataFrame([[date, time, task, position, bitmap, ID, workers]], \n",
    "                                                                                columns =  analytics_time_serie.columns)\n",
    "\n",
    "                                                                )\n",
    "\n",
    "\n",
    "    return analytics_time_serie"
   ]
  }
 ],
 "metadata": {
  "kernelspec": {
   "display_name": "Python 3",
   "language": "python",
   "name": "python3"
  },
  "language_info": {
   "codemirror_mode": {
    "name": "ipython",
    "version": 3
   },
   "file_extension": ".py",
   "mimetype": "text/x-python",
   "name": "python",
   "nbconvert_exporter": "python",
   "pygments_lexer": "ipython3",
   "version": "3.7.7"
  }
 },
 "nbformat": 4,
 "nbformat_minor": 4
}
