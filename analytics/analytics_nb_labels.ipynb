{
 "cells": [
  {
   "cell_type": "code",
   "execution_count": null,
   "metadata": {},
   "outputs": [],
   "source": [
    "import numpy as np # linear algebra\n",
    "import pandas as pd # data processing, CSV file I/O (e.g. pd.read_csv)\n",
    "from PIL import Image\n",
    "import matplotlib.pyplot as plt\n",
    "from tqdm.notebook import tqdm\n",
    "import matplotlib.animation as animation\n",
    "from IPython.display import HTML\n",
    "import numpy as np\n",
    "import json\n",
    "import ast\n",
    "import pandas as pd\n",
    "import os\n",
    "from scipy import ndimage\n",
    "from skimage import io\n",
    "from skimage import transform"
   ]
  },
  {
   "cell_type": "code",
   "execution_count": null,
   "metadata": {},
   "outputs": [],
   "source": [
    "images_analytics = PATH_TO_ANALYTICS_IMG\n",
    "labels_analytics_poly = PATH_TO_ANALYTICS_JSON_POLY #shape: bitmap + origin point\n",
    "labels_analytics_people = PATH_TO_ANALYTICS_JSON_PEOPLE #shape: bounding box left upper and right lower point"
   ]
  },
  {
   "cell_type": "code",
   "execution_count": null,
   "metadata": {},
   "outputs": [],
   "source": [
    "def count_labels(images_analytics, labels_analytics_people, labels_analytics_poly):\n",
    "    sorted_images = [images_analytics+image for image in sorted(os.listdir(images_analytics))]\n",
    "    sorted_labels_poly = [labels_analytics_poly+label for label in sorted(os.listdir(labels_analytics_poly))]\n",
    "    sorted_labels_people = [labels_analytics_people+label for label in sorted(os.listdir(labels_analytics_people))]\n",
    "    tasks ={} \n",
    "    for label in sorted_labels_poly+sorted_labels_people:\n",
    "        if '.ipynb' in label:\n",
    "            continue\n",
    "        text = open(label).read()\n",
    "        dic = ast.literal_eval(text)\n",
    "        for obj in dic['objects']:\n",
    "            if obj['classTitle'] not in tasks:\n",
    "                tasks[obj['classTitle']] = 1\n",
    "            else:\n",
    "                tasks[obj['classTitle']]+=1\n",
    "    return tasks\n"
   ]
  },
  {
   "cell_type": "code",
   "execution_count": null,
   "metadata": {},
   "outputs": [],
   "source": [
    "count_labels(images_analytics, labels_analytics_people, labels_analytics_poly)"
   ]
  },
  {
   "cell_type": "code",
   "execution_count": null,
   "metadata": {},
   "outputs": [],
   "source": []
  }
 ],
 "metadata": {
  "kernelspec": {
   "display_name": "Python 3",
   "language": "python",
   "name": "python3"
  },
  "language_info": {
   "codemirror_mode": {
    "name": "ipython",
    "version": 3
   },
   "file_extension": ".py",
   "mimetype": "text/x-python",
   "name": "python",
   "nbconvert_exporter": "python",
   "pygments_lexer": "ipython3",
   "version": "3.7.7"
  }
 },
 "nbformat": 4,
 "nbformat_minor": 4
}
